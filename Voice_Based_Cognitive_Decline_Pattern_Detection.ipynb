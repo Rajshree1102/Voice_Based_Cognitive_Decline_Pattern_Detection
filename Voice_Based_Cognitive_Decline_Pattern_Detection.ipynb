{
  "nbformat": 4,
  "nbformat_minor": 0,
  "metadata": {
    "colab": {
      "provenance": []
    },
    "kernelspec": {
      "name": "python3",
      "display_name": "Python 3"
    },
    "language_info": {
      "name": "python"
    }
  },
  "cells": [
    {
      "cell_type": "markdown",
      "source": [
        "## Importing Required Libraries"
      ],
      "metadata": {
        "id": "8s1OYjHsT_c6"
      }
    },
    {
      "cell_type": "code",
      "source": [
        "!pip install git+https://github.com/openai/whisper.git"
      ],
      "metadata": {
        "colab": {
          "base_uri": "https://localhost:8080/"
        },
        "id": "nyveCjPW_Rbm",
        "outputId": "5a03107e-f8d9-4ad5-d017-c77959663de3"
      },
      "execution_count": 42,
      "outputs": [
        {
          "output_type": "stream",
          "name": "stdout",
          "text": [
            "Collecting git+https://github.com/openai/whisper.git\n",
            "  Cloning https://github.com/openai/whisper.git to /tmp/pip-req-build-5jl9h2p9\n",
            "  Running command git clone --filter=blob:none --quiet https://github.com/openai/whisper.git /tmp/pip-req-build-5jl9h2p9\n",
            "  Resolved https://github.com/openai/whisper.git to commit 517a43ecd132a2089d85f4ebc044728a71d49f6e\n",
            "  Installing build dependencies ... \u001b[?25l\u001b[?25hdone\n",
            "  Getting requirements to build wheel ... \u001b[?25l\u001b[?25hdone\n",
            "  Preparing metadata (pyproject.toml) ... \u001b[?25l\u001b[?25hdone\n",
            "Requirement already satisfied: more-itertools in /usr/local/lib/python3.11/dist-packages (from openai-whisper==20240930) (10.6.0)\n",
            "Requirement already satisfied: numba in /usr/local/lib/python3.11/dist-packages (from openai-whisper==20240930) (0.60.0)\n",
            "Requirement already satisfied: numpy in /usr/local/lib/python3.11/dist-packages (from openai-whisper==20240930) (2.0.2)\n",
            "Requirement already satisfied: tiktoken in /usr/local/lib/python3.11/dist-packages (from openai-whisper==20240930) (0.9.0)\n",
            "Requirement already satisfied: torch in /usr/local/lib/python3.11/dist-packages (from openai-whisper==20240930) (2.6.0+cu124)\n",
            "Requirement already satisfied: tqdm in /usr/local/lib/python3.11/dist-packages (from openai-whisper==20240930) (4.67.1)\n",
            "Requirement already satisfied: triton>=2 in /usr/local/lib/python3.11/dist-packages (from openai-whisper==20240930) (3.2.0)\n",
            "Requirement already satisfied: llvmlite<0.44,>=0.43.0dev0 in /usr/local/lib/python3.11/dist-packages (from numba->openai-whisper==20240930) (0.43.0)\n",
            "Requirement already satisfied: regex>=2022.1.18 in /usr/local/lib/python3.11/dist-packages (from tiktoken->openai-whisper==20240930) (2024.11.6)\n",
            "Requirement already satisfied: requests>=2.26.0 in /usr/local/lib/python3.11/dist-packages (from tiktoken->openai-whisper==20240930) (2.32.3)\n",
            "Requirement already satisfied: filelock in /usr/local/lib/python3.11/dist-packages (from torch->openai-whisper==20240930) (3.18.0)\n",
            "Requirement already satisfied: typing-extensions>=4.10.0 in /usr/local/lib/python3.11/dist-packages (from torch->openai-whisper==20240930) (4.13.1)\n",
            "Requirement already satisfied: networkx in /usr/local/lib/python3.11/dist-packages (from torch->openai-whisper==20240930) (3.4.2)\n",
            "Requirement already satisfied: jinja2 in /usr/local/lib/python3.11/dist-packages (from torch->openai-whisper==20240930) (3.1.6)\n",
            "Requirement already satisfied: fsspec in /usr/local/lib/python3.11/dist-packages (from torch->openai-whisper==20240930) (2025.3.2)\n",
            "Requirement already satisfied: nvidia-cuda-nvrtc-cu12==12.4.127 in /usr/local/lib/python3.11/dist-packages (from torch->openai-whisper==20240930) (12.4.127)\n",
            "Requirement already satisfied: nvidia-cuda-runtime-cu12==12.4.127 in /usr/local/lib/python3.11/dist-packages (from torch->openai-whisper==20240930) (12.4.127)\n",
            "Requirement already satisfied: nvidia-cuda-cupti-cu12==12.4.127 in /usr/local/lib/python3.11/dist-packages (from torch->openai-whisper==20240930) (12.4.127)\n",
            "Requirement already satisfied: nvidia-cudnn-cu12==9.1.0.70 in /usr/local/lib/python3.11/dist-packages (from torch->openai-whisper==20240930) (9.1.0.70)\n",
            "Requirement already satisfied: nvidia-cublas-cu12==12.4.5.8 in /usr/local/lib/python3.11/dist-packages (from torch->openai-whisper==20240930) (12.4.5.8)\n",
            "Requirement already satisfied: nvidia-cufft-cu12==11.2.1.3 in /usr/local/lib/python3.11/dist-packages (from torch->openai-whisper==20240930) (11.2.1.3)\n",
            "Requirement already satisfied: nvidia-curand-cu12==10.3.5.147 in /usr/local/lib/python3.11/dist-packages (from torch->openai-whisper==20240930) (10.3.5.147)\n",
            "Requirement already satisfied: nvidia-cusolver-cu12==11.6.1.9 in /usr/local/lib/python3.11/dist-packages (from torch->openai-whisper==20240930) (11.6.1.9)\n",
            "Requirement already satisfied: nvidia-cusparse-cu12==12.3.1.170 in /usr/local/lib/python3.11/dist-packages (from torch->openai-whisper==20240930) (12.3.1.170)\n",
            "Requirement already satisfied: nvidia-cusparselt-cu12==0.6.2 in /usr/local/lib/python3.11/dist-packages (from torch->openai-whisper==20240930) (0.6.2)\n",
            "Requirement already satisfied: nvidia-nccl-cu12==2.21.5 in /usr/local/lib/python3.11/dist-packages (from torch->openai-whisper==20240930) (2.21.5)\n",
            "Requirement already satisfied: nvidia-nvtx-cu12==12.4.127 in /usr/local/lib/python3.11/dist-packages (from torch->openai-whisper==20240930) (12.4.127)\n",
            "Requirement already satisfied: nvidia-nvjitlink-cu12==12.4.127 in /usr/local/lib/python3.11/dist-packages (from torch->openai-whisper==20240930) (12.4.127)\n",
            "Requirement already satisfied: sympy==1.13.1 in /usr/local/lib/python3.11/dist-packages (from torch->openai-whisper==20240930) (1.13.1)\n",
            "Requirement already satisfied: mpmath<1.4,>=1.1.0 in /usr/local/lib/python3.11/dist-packages (from sympy==1.13.1->torch->openai-whisper==20240930) (1.3.0)\n",
            "Requirement already satisfied: charset-normalizer<4,>=2 in /usr/local/lib/python3.11/dist-packages (from requests>=2.26.0->tiktoken->openai-whisper==20240930) (3.4.1)\n",
            "Requirement already satisfied: idna<4,>=2.5 in /usr/local/lib/python3.11/dist-packages (from requests>=2.26.0->tiktoken->openai-whisper==20240930) (3.10)\n",
            "Requirement already satisfied: urllib3<3,>=1.21.1 in /usr/local/lib/python3.11/dist-packages (from requests>=2.26.0->tiktoken->openai-whisper==20240930) (2.3.0)\n",
            "Requirement already satisfied: certifi>=2017.4.17 in /usr/local/lib/python3.11/dist-packages (from requests>=2.26.0->tiktoken->openai-whisper==20240930) (2025.1.31)\n",
            "Requirement already satisfied: MarkupSafe>=2.0 in /usr/local/lib/python3.11/dist-packages (from jinja2->torch->openai-whisper==20240930) (3.0.2)\n"
          ]
        }
      ]
    },
    {
      "cell_type": "code",
      "execution_count": 43,
      "metadata": {
        "id": "AfWvIW_9-rUZ"
      },
      "outputs": [],
      "source": [
        "import os\n",
        "import librosa\n",
        "import numpy as np\n",
        "import pandas as pd\n",
        "import matplotlib.pyplot as plt\n",
        "import whisper\n",
        "from sklearn.preprocessing import StandardScaler\n",
        "from sklearn.decomposition import PCA\n",
        "from sklearn.ensemble import IsolationForest\n",
        "import seaborn as sns\n",
        "import warnings\n",
        "import re"
      ]
    },
    {
      "cell_type": "markdown",
      "source": [
        "## Loading Data"
      ],
      "metadata": {
        "id": "aBxImEoUUKVr"
      }
    },
    {
      "cell_type": "code",
      "source": [
        "AUDIO_DIR = \"/content/voice_data\"  # here paste the path of data folder\n",
        "SAMPLE_RATE = 16000 #16000 samples per second"
      ],
      "metadata": {
        "id": "EuUGv32C-uMg"
      },
      "execution_count": 44,
      "outputs": []
    },
    {
      "cell_type": "markdown",
      "source": [
        "## Model for convert audio to text"
      ],
      "metadata": {
        "id": "HpyV1mTWUjWi"
      }
    },
    {
      "cell_type": "code",
      "source": [
        "# Whisper Model\n",
        "model = whisper.load_model(\"tiny\")"
      ],
      "metadata": {
        "id": "uEn2zP6nAhIn"
      },
      "execution_count": 45,
      "outputs": []
    },
    {
      "cell_type": "code",
      "source": [
        "def transcribe_audio(file_path):\n",
        "    result = model.transcribe(file_path)\n",
        "    return result['text']"
      ],
      "metadata": {
        "id": "5X8muL34AxMP"
      },
      "execution_count": 46,
      "outputs": []
    },
    {
      "cell_type": "code",
      "source": [
        "for file in os.listdir(AUDIO_DIR):\n",
        "    if file.endswith(\".mp3\"):\n",
        "      path = os.path.join(AUDIO_DIR, file)\n",
        "      text = transcribe_audio(path)\n",
        "      print(text)"
      ],
      "metadata": {
        "colab": {
          "base_uri": "https://localhost:8080/"
        },
        "id": "A0fNfeJuEkwV",
        "outputId": "ab0b67cf-16c4-4a24-e3e7-5d32fed41e12"
      },
      "execution_count": 47,
      "outputs": [
        {
          "output_type": "stream",
          "name": "stderr",
          "text": [
            "/usr/local/lib/python3.11/dist-packages/whisper/transcribe.py:132: UserWarning: FP16 is not supported on CPU; using FP32 instead\n",
            "  warnings.warn(\"FP16 is not supported on CPU; using FP32 instead\")\n"
          ]
        },
        {
          "output_type": "stream",
          "name": "stdout",
          "text": [
            " In this position he learned mathematics, Greek, Italian, Spanish, and several oriental languages.\n"
          ]
        },
        {
          "output_type": "stream",
          "name": "stderr",
          "text": [
            "/usr/local/lib/python3.11/dist-packages/whisper/transcribe.py:132: UserWarning: FP16 is not supported on CPU; using FP32 instead\n",
            "  warnings.warn(\"FP16 is not supported on CPU; using FP32 instead\")\n"
          ]
        },
        {
          "output_type": "stream",
          "name": "stdout",
          "text": [
            " She herself defended her verse as Holy Eurotica.\n"
          ]
        },
        {
          "output_type": "stream",
          "name": "stderr",
          "text": [
            "/usr/local/lib/python3.11/dist-packages/whisper/transcribe.py:132: UserWarning: FP16 is not supported on CPU; using FP32 instead\n",
            "  warnings.warn(\"FP16 is not supported on CPU; using FP32 instead\")\n"
          ]
        },
        {
          "output_type": "stream",
          "name": "stdout",
          "text": [
            " They followed the street car lines to areas south of the raccoon river.\n"
          ]
        },
        {
          "output_type": "stream",
          "name": "stderr",
          "text": [
            "/usr/local/lib/python3.11/dist-packages/whisper/transcribe.py:132: UserWarning: FP16 is not supported on CPU; using FP32 instead\n",
            "  warnings.warn(\"FP16 is not supported on CPU; using FP32 instead\")\n"
          ]
        },
        {
          "output_type": "stream",
          "name": "stdout",
          "text": [
            " The key allows customers to buy plus bus for the Crawley and Brighton areas.\n"
          ]
        },
        {
          "output_type": "stream",
          "name": "stderr",
          "text": [
            "/usr/local/lib/python3.11/dist-packages/whisper/transcribe.py:132: UserWarning: FP16 is not supported on CPU; using FP32 instead\n",
            "  warnings.warn(\"FP16 is not supported on CPU; using FP32 instead\")\n"
          ]
        },
        {
          "output_type": "stream",
          "name": "stdout",
          "text": [
            " My books and my stories.\n"
          ]
        },
        {
          "output_type": "stream",
          "name": "stderr",
          "text": [
            "/usr/local/lib/python3.11/dist-packages/whisper/transcribe.py:132: UserWarning: FP16 is not supported on CPU; using FP32 instead\n",
            "  warnings.warn(\"FP16 is not supported on CPU; using FP32 instead\")\n"
          ]
        },
        {
          "output_type": "stream",
          "name": "stdout",
          "text": [
            " Mayor Max requested cuts be made in Christopher initially refused.\n"
          ]
        }
      ]
    },
    {
      "cell_type": "markdown",
      "source": [
        "## Extract Relevant Features"
      ],
      "metadata": {
        "id": "hLcb2gXkVJIQ"
      }
    },
    {
      "cell_type": "code",
      "source": [
        "# Feature Extraction Function\n",
        "def extract_audio_features(file_path):\n",
        "    y, sr = librosa.load(file_path, sr=SAMPLE_RATE)\n",
        "    duration = librosa.get_duration(y=y, sr=sr)\n",
        "\n",
        "    # 1. Transcribe audio to text\n",
        "    text = transcribe_audio(file_path)\n",
        "    words = text.split()\n",
        "\n",
        "    # 2. Speech Rate\n",
        "    word_count = len(words)\n",
        "    speech_rate = word_count / duration if duration > 0 else 0\n",
        "\n",
        "    # 3. Hesitation Markers\n",
        "    hesitations = re.findall(r\"\\b(uh+|um+)\\b\", text.lower())\n",
        "    hesitation_count = len(hesitations)\n",
        "\n",
        "    # 4. Pauses -\n",
        "    # Estimate using silence between words via RMS energy threshold\n",
        "    intervals = librosa.effects.split(y, top_db=30)\n",
        "    pause_durations = []\n",
        "    for i in range(1, len(intervals)):\n",
        "        start = intervals[i-1][1]\n",
        "        end = intervals[i][0]\n",
        "        pause_duration = (end - start) / sr\n",
        "        pause_durations.append(pause_duration)\n",
        "    pause_count = len(pause_durations)\n",
        "    avg_pause_duration = np.mean(pause_durations) if pause_durations else 0\n",
        "\n",
        "    # 5. Pitch Features\n",
        "    pitches, magnitudes = librosa.piptrack(y=y, sr=sr)\n",
        "    pitch_values = pitches[magnitudes > np.median(magnitudes)]\n",
        "    pitch_mean = np.mean(pitch_values) if len(pitch_values) > 0 else 0\n",
        "    pitch_std = np.std(pitch_values) if len(pitch_values) > 0 else 0\n",
        "\n",
        "    # 6. MFCCs\n",
        "    mfccs = librosa.feature.mfcc(y=y, sr=sr, n_mfcc=13)\n",
        "    mfccs_mean = np.mean(mfccs, axis=1)\n",
        "\n",
        "    # 7. Sentence Completion & Word Recall (approx)\n",
        "    # might simulate this with keyword presence/absence\n",
        "    target_words = [\"apple\", \"banana\", \"chair\", \"car\"]  # example stimuli\n",
        "    missing_words = [word for word in target_words if word not in text.lower()]\n",
        "    word_recall_errors = len(missing_words)\n",
        "\n",
        "    # Final feature dictionary\n",
        "    features = {\n",
        "        \"speech_rate\": speech_rate,\n",
        "        \"hesitation_count\": hesitation_count,\n",
        "        \"pause_count\": pause_count,\n",
        "        \"avg_pause_duration\": avg_pause_duration,\n",
        "        \"pitch_mean\": pitch_mean,\n",
        "        \"pitch_std\": pitch_std,\n",
        "        \"word_recall_errors\": word_recall_errors,\n",
        "        **{f\"mfcc_{i+1}\": val for i, val in enumerate(mfccs_mean)}\n",
        "    }\n",
        "\n",
        "    return features\n"
      ],
      "metadata": {
        "id": "g0JodmknAz_R"
      },
      "execution_count": 48,
      "outputs": []
    },
    {
      "cell_type": "markdown",
      "source": [
        "## Creating Dataframe of all the features"
      ],
      "metadata": {
        "id": "cG799TrlVt23"
      }
    },
    {
      "cell_type": "code",
      "source": [
        "features = []\n",
        "file_names = []\n",
        "\n",
        "for file in os.listdir(AUDIO_DIR):\n",
        "    if file.endswith(\".mp3\"):\n",
        "        path = os.path.join(AUDIO_DIR, file)\n",
        "        feats = extract_audio_features(path)\n",
        "        features.append(feats)\n",
        "        file_names.append(file)\n",
        "\n",
        "feature_df = pd.DataFrame(features)\n",
        "feature_df['filename'] = file_names"
      ],
      "metadata": {
        "colab": {
          "base_uri": "https://localhost:8080/"
        },
        "id": "BMRcLJAKA7al",
        "outputId": "1ac28927-709b-4223-ef42-1daba77dd593"
      },
      "execution_count": 49,
      "outputs": [
        {
          "output_type": "stream",
          "name": "stderr",
          "text": [
            "/usr/local/lib/python3.11/dist-packages/whisper/transcribe.py:132: UserWarning: FP16 is not supported on CPU; using FP32 instead\n",
            "  warnings.warn(\"FP16 is not supported on CPU; using FP32 instead\")\n",
            "/usr/local/lib/python3.11/dist-packages/whisper/transcribe.py:132: UserWarning: FP16 is not supported on CPU; using FP32 instead\n",
            "  warnings.warn(\"FP16 is not supported on CPU; using FP32 instead\")\n",
            "/usr/local/lib/python3.11/dist-packages/whisper/transcribe.py:132: UserWarning: FP16 is not supported on CPU; using FP32 instead\n",
            "  warnings.warn(\"FP16 is not supported on CPU; using FP32 instead\")\n",
            "/usr/local/lib/python3.11/dist-packages/whisper/transcribe.py:132: UserWarning: FP16 is not supported on CPU; using FP32 instead\n",
            "  warnings.warn(\"FP16 is not supported on CPU; using FP32 instead\")\n",
            "/usr/local/lib/python3.11/dist-packages/whisper/transcribe.py:132: UserWarning: FP16 is not supported on CPU; using FP32 instead\n",
            "  warnings.warn(\"FP16 is not supported on CPU; using FP32 instead\")\n",
            "/usr/local/lib/python3.11/dist-packages/whisper/transcribe.py:132: UserWarning: FP16 is not supported on CPU; using FP32 instead\n",
            "  warnings.warn(\"FP16 is not supported on CPU; using FP32 instead\")\n"
          ]
        }
      ]
    },
    {
      "cell_type": "code",
      "source": [
        "feature_df.head()"
      ],
      "metadata": {
        "colab": {
          "base_uri": "https://localhost:8080/",
          "height": 255
        },
        "id": "HVxCRmsgCDJs",
        "outputId": "4db31f8e-556c-43f6-aac1-07dc6535cdd7"
      },
      "execution_count": 50,
      "outputs": [
        {
          "output_type": "execute_result",
          "data": {
            "text/plain": [
              "   speech_rate  hesitation_count  pause_count  avg_pause_duration  \\\n",
              "0     1.641414                 0            6               0.032   \n",
              "1     1.883239                 0            2               0.048   \n",
              "2     2.635848                 0            2               0.032   \n",
              "3     2.287582                 0            2               0.160   \n",
              "4     1.560549                 0            0               0.000   \n",
              "\n",
              "    pitch_mean    pitch_std  word_recall_errors      mfcc_1      mfcc_2  \\\n",
              "0  1666.367310  1164.916992                   4 -386.024872  101.854889   \n",
              "1  1588.609863  1098.299438                   4 -400.976776   97.810486   \n",
              "2  1610.193115  1071.481567                   3 -403.352509  108.855370   \n",
              "3  1768.976929  1211.316650                   4 -404.340820   93.474609   \n",
              "4  1714.886230  1086.674438                   4 -426.364105   66.178627   \n",
              "\n",
              "      mfcc_3  ...     mfcc_5    mfcc_6     mfcc_7     mfcc_8    mfcc_9  \\\n",
              "0  -5.847140  ...  -9.709175  1.423011 -28.109793 -30.325739 -1.605558   \n",
              "1  -9.632718  ... -10.116662  2.344151 -23.092892 -26.780828 -9.610326   \n",
              "2 -13.217437  ...  -1.908579 -0.829149 -29.522745 -26.116005 -7.297551   \n",
              "3   3.756733  ... -24.765436  0.504674 -13.819618 -33.119404 -8.916106   \n",
              "4  -5.522041  ...  -9.667580  9.536520 -24.036177 -21.772190  1.117350   \n",
              "\n",
              "    mfcc_10    mfcc_11   mfcc_12   mfcc_13                      filename  \n",
              "0 -3.850297 -21.123734 -1.379779 -2.375633  common_voice_en_40865221.mp3  \n",
              "1 -3.800430 -14.362090 -2.123352 -3.134603  common_voice_en_40865224.mp3  \n",
              "2 -5.868210 -13.265557 -1.850904 -1.585434  common_voice_en_40865223.mp3  \n",
              "3 -2.151369 -10.666728 -5.379511 -6.412474  common_voice_en_40865215.mp3  \n",
              "4 -5.484777 -16.023050  1.658345 -0.979817  common_voice_en_40865222.mp3  \n",
              "\n",
              "[5 rows x 21 columns]"
            ],
            "text/html": [
              "\n",
              "  <div id=\"df-d0cefd7b-5f61-4793-a07a-0be3d271bd38\" class=\"colab-df-container\">\n",
              "    <div>\n",
              "<style scoped>\n",
              "    .dataframe tbody tr th:only-of-type {\n",
              "        vertical-align: middle;\n",
              "    }\n",
              "\n",
              "    .dataframe tbody tr th {\n",
              "        vertical-align: top;\n",
              "    }\n",
              "\n",
              "    .dataframe thead th {\n",
              "        text-align: right;\n",
              "    }\n",
              "</style>\n",
              "<table border=\"1\" class=\"dataframe\">\n",
              "  <thead>\n",
              "    <tr style=\"text-align: right;\">\n",
              "      <th></th>\n",
              "      <th>speech_rate</th>\n",
              "      <th>hesitation_count</th>\n",
              "      <th>pause_count</th>\n",
              "      <th>avg_pause_duration</th>\n",
              "      <th>pitch_mean</th>\n",
              "      <th>pitch_std</th>\n",
              "      <th>word_recall_errors</th>\n",
              "      <th>mfcc_1</th>\n",
              "      <th>mfcc_2</th>\n",
              "      <th>mfcc_3</th>\n",
              "      <th>...</th>\n",
              "      <th>mfcc_5</th>\n",
              "      <th>mfcc_6</th>\n",
              "      <th>mfcc_7</th>\n",
              "      <th>mfcc_8</th>\n",
              "      <th>mfcc_9</th>\n",
              "      <th>mfcc_10</th>\n",
              "      <th>mfcc_11</th>\n",
              "      <th>mfcc_12</th>\n",
              "      <th>mfcc_13</th>\n",
              "      <th>filename</th>\n",
              "    </tr>\n",
              "  </thead>\n",
              "  <tbody>\n",
              "    <tr>\n",
              "      <th>0</th>\n",
              "      <td>1.641414</td>\n",
              "      <td>0</td>\n",
              "      <td>6</td>\n",
              "      <td>0.032</td>\n",
              "      <td>1666.367310</td>\n",
              "      <td>1164.916992</td>\n",
              "      <td>4</td>\n",
              "      <td>-386.024872</td>\n",
              "      <td>101.854889</td>\n",
              "      <td>-5.847140</td>\n",
              "      <td>...</td>\n",
              "      <td>-9.709175</td>\n",
              "      <td>1.423011</td>\n",
              "      <td>-28.109793</td>\n",
              "      <td>-30.325739</td>\n",
              "      <td>-1.605558</td>\n",
              "      <td>-3.850297</td>\n",
              "      <td>-21.123734</td>\n",
              "      <td>-1.379779</td>\n",
              "      <td>-2.375633</td>\n",
              "      <td>common_voice_en_40865221.mp3</td>\n",
              "    </tr>\n",
              "    <tr>\n",
              "      <th>1</th>\n",
              "      <td>1.883239</td>\n",
              "      <td>0</td>\n",
              "      <td>2</td>\n",
              "      <td>0.048</td>\n",
              "      <td>1588.609863</td>\n",
              "      <td>1098.299438</td>\n",
              "      <td>4</td>\n",
              "      <td>-400.976776</td>\n",
              "      <td>97.810486</td>\n",
              "      <td>-9.632718</td>\n",
              "      <td>...</td>\n",
              "      <td>-10.116662</td>\n",
              "      <td>2.344151</td>\n",
              "      <td>-23.092892</td>\n",
              "      <td>-26.780828</td>\n",
              "      <td>-9.610326</td>\n",
              "      <td>-3.800430</td>\n",
              "      <td>-14.362090</td>\n",
              "      <td>-2.123352</td>\n",
              "      <td>-3.134603</td>\n",
              "      <td>common_voice_en_40865224.mp3</td>\n",
              "    </tr>\n",
              "    <tr>\n",
              "      <th>2</th>\n",
              "      <td>2.635848</td>\n",
              "      <td>0</td>\n",
              "      <td>2</td>\n",
              "      <td>0.032</td>\n",
              "      <td>1610.193115</td>\n",
              "      <td>1071.481567</td>\n",
              "      <td>3</td>\n",
              "      <td>-403.352509</td>\n",
              "      <td>108.855370</td>\n",
              "      <td>-13.217437</td>\n",
              "      <td>...</td>\n",
              "      <td>-1.908579</td>\n",
              "      <td>-0.829149</td>\n",
              "      <td>-29.522745</td>\n",
              "      <td>-26.116005</td>\n",
              "      <td>-7.297551</td>\n",
              "      <td>-5.868210</td>\n",
              "      <td>-13.265557</td>\n",
              "      <td>-1.850904</td>\n",
              "      <td>-1.585434</td>\n",
              "      <td>common_voice_en_40865223.mp3</td>\n",
              "    </tr>\n",
              "    <tr>\n",
              "      <th>3</th>\n",
              "      <td>2.287582</td>\n",
              "      <td>0</td>\n",
              "      <td>2</td>\n",
              "      <td>0.160</td>\n",
              "      <td>1768.976929</td>\n",
              "      <td>1211.316650</td>\n",
              "      <td>4</td>\n",
              "      <td>-404.340820</td>\n",
              "      <td>93.474609</td>\n",
              "      <td>3.756733</td>\n",
              "      <td>...</td>\n",
              "      <td>-24.765436</td>\n",
              "      <td>0.504674</td>\n",
              "      <td>-13.819618</td>\n",
              "      <td>-33.119404</td>\n",
              "      <td>-8.916106</td>\n",
              "      <td>-2.151369</td>\n",
              "      <td>-10.666728</td>\n",
              "      <td>-5.379511</td>\n",
              "      <td>-6.412474</td>\n",
              "      <td>common_voice_en_40865215.mp3</td>\n",
              "    </tr>\n",
              "    <tr>\n",
              "      <th>4</th>\n",
              "      <td>1.560549</td>\n",
              "      <td>0</td>\n",
              "      <td>0</td>\n",
              "      <td>0.000</td>\n",
              "      <td>1714.886230</td>\n",
              "      <td>1086.674438</td>\n",
              "      <td>4</td>\n",
              "      <td>-426.364105</td>\n",
              "      <td>66.178627</td>\n",
              "      <td>-5.522041</td>\n",
              "      <td>...</td>\n",
              "      <td>-9.667580</td>\n",
              "      <td>9.536520</td>\n",
              "      <td>-24.036177</td>\n",
              "      <td>-21.772190</td>\n",
              "      <td>1.117350</td>\n",
              "      <td>-5.484777</td>\n",
              "      <td>-16.023050</td>\n",
              "      <td>1.658345</td>\n",
              "      <td>-0.979817</td>\n",
              "      <td>common_voice_en_40865222.mp3</td>\n",
              "    </tr>\n",
              "  </tbody>\n",
              "</table>\n",
              "<p>5 rows × 21 columns</p>\n",
              "</div>\n",
              "    <div class=\"colab-df-buttons\">\n",
              "\n",
              "  <div class=\"colab-df-container\">\n",
              "    <button class=\"colab-df-convert\" onclick=\"convertToInteractive('df-d0cefd7b-5f61-4793-a07a-0be3d271bd38')\"\n",
              "            title=\"Convert this dataframe to an interactive table.\"\n",
              "            style=\"display:none;\">\n",
              "\n",
              "  <svg xmlns=\"http://www.w3.org/2000/svg\" height=\"24px\" viewBox=\"0 -960 960 960\">\n",
              "    <path d=\"M120-120v-720h720v720H120Zm60-500h600v-160H180v160Zm220 220h160v-160H400v160Zm0 220h160v-160H400v160ZM180-400h160v-160H180v160Zm440 0h160v-160H620v160ZM180-180h160v-160H180v160Zm440 0h160v-160H620v160Z\"/>\n",
              "  </svg>\n",
              "    </button>\n",
              "\n",
              "  <style>\n",
              "    .colab-df-container {\n",
              "      display:flex;\n",
              "      gap: 12px;\n",
              "    }\n",
              "\n",
              "    .colab-df-convert {\n",
              "      background-color: #E8F0FE;\n",
              "      border: none;\n",
              "      border-radius: 50%;\n",
              "      cursor: pointer;\n",
              "      display: none;\n",
              "      fill: #1967D2;\n",
              "      height: 32px;\n",
              "      padding: 0 0 0 0;\n",
              "      width: 32px;\n",
              "    }\n",
              "\n",
              "    .colab-df-convert:hover {\n",
              "      background-color: #E2EBFA;\n",
              "      box-shadow: 0px 1px 2px rgba(60, 64, 67, 0.3), 0px 1px 3px 1px rgba(60, 64, 67, 0.15);\n",
              "      fill: #174EA6;\n",
              "    }\n",
              "\n",
              "    .colab-df-buttons div {\n",
              "      margin-bottom: 4px;\n",
              "    }\n",
              "\n",
              "    [theme=dark] .colab-df-convert {\n",
              "      background-color: #3B4455;\n",
              "      fill: #D2E3FC;\n",
              "    }\n",
              "\n",
              "    [theme=dark] .colab-df-convert:hover {\n",
              "      background-color: #434B5C;\n",
              "      box-shadow: 0px 1px 3px 1px rgba(0, 0, 0, 0.15);\n",
              "      filter: drop-shadow(0px 1px 2px rgba(0, 0, 0, 0.3));\n",
              "      fill: #FFFFFF;\n",
              "    }\n",
              "  </style>\n",
              "\n",
              "    <script>\n",
              "      const buttonEl =\n",
              "        document.querySelector('#df-d0cefd7b-5f61-4793-a07a-0be3d271bd38 button.colab-df-convert');\n",
              "      buttonEl.style.display =\n",
              "        google.colab.kernel.accessAllowed ? 'block' : 'none';\n",
              "\n",
              "      async function convertToInteractive(key) {\n",
              "        const element = document.querySelector('#df-d0cefd7b-5f61-4793-a07a-0be3d271bd38');\n",
              "        const dataTable =\n",
              "          await google.colab.kernel.invokeFunction('convertToInteractive',\n",
              "                                                    [key], {});\n",
              "        if (!dataTable) return;\n",
              "\n",
              "        const docLinkHtml = 'Like what you see? Visit the ' +\n",
              "          '<a target=\"_blank\" href=https://colab.research.google.com/notebooks/data_table.ipynb>data table notebook</a>'\n",
              "          + ' to learn more about interactive tables.';\n",
              "        element.innerHTML = '';\n",
              "        dataTable['output_type'] = 'display_data';\n",
              "        await google.colab.output.renderOutput(dataTable, element);\n",
              "        const docLink = document.createElement('div');\n",
              "        docLink.innerHTML = docLinkHtml;\n",
              "        element.appendChild(docLink);\n",
              "      }\n",
              "    </script>\n",
              "  </div>\n",
              "\n",
              "\n",
              "<div id=\"df-a8aa5de1-280e-4a05-8964-a93e49510a3c\">\n",
              "  <button class=\"colab-df-quickchart\" onclick=\"quickchart('df-a8aa5de1-280e-4a05-8964-a93e49510a3c')\"\n",
              "            title=\"Suggest charts\"\n",
              "            style=\"display:none;\">\n",
              "\n",
              "<svg xmlns=\"http://www.w3.org/2000/svg\" height=\"24px\"viewBox=\"0 0 24 24\"\n",
              "     width=\"24px\">\n",
              "    <g>\n",
              "        <path d=\"M19 3H5c-1.1 0-2 .9-2 2v14c0 1.1.9 2 2 2h14c1.1 0 2-.9 2-2V5c0-1.1-.9-2-2-2zM9 17H7v-7h2v7zm4 0h-2V7h2v10zm4 0h-2v-4h2v4z\"/>\n",
              "    </g>\n",
              "</svg>\n",
              "  </button>\n",
              "\n",
              "<style>\n",
              "  .colab-df-quickchart {\n",
              "      --bg-color: #E8F0FE;\n",
              "      --fill-color: #1967D2;\n",
              "      --hover-bg-color: #E2EBFA;\n",
              "      --hover-fill-color: #174EA6;\n",
              "      --disabled-fill-color: #AAA;\n",
              "      --disabled-bg-color: #DDD;\n",
              "  }\n",
              "\n",
              "  [theme=dark] .colab-df-quickchart {\n",
              "      --bg-color: #3B4455;\n",
              "      --fill-color: #D2E3FC;\n",
              "      --hover-bg-color: #434B5C;\n",
              "      --hover-fill-color: #FFFFFF;\n",
              "      --disabled-bg-color: #3B4455;\n",
              "      --disabled-fill-color: #666;\n",
              "  }\n",
              "\n",
              "  .colab-df-quickchart {\n",
              "    background-color: var(--bg-color);\n",
              "    border: none;\n",
              "    border-radius: 50%;\n",
              "    cursor: pointer;\n",
              "    display: none;\n",
              "    fill: var(--fill-color);\n",
              "    height: 32px;\n",
              "    padding: 0;\n",
              "    width: 32px;\n",
              "  }\n",
              "\n",
              "  .colab-df-quickchart:hover {\n",
              "    background-color: var(--hover-bg-color);\n",
              "    box-shadow: 0 1px 2px rgba(60, 64, 67, 0.3), 0 1px 3px 1px rgba(60, 64, 67, 0.15);\n",
              "    fill: var(--button-hover-fill-color);\n",
              "  }\n",
              "\n",
              "  .colab-df-quickchart-complete:disabled,\n",
              "  .colab-df-quickchart-complete:disabled:hover {\n",
              "    background-color: var(--disabled-bg-color);\n",
              "    fill: var(--disabled-fill-color);\n",
              "    box-shadow: none;\n",
              "  }\n",
              "\n",
              "  .colab-df-spinner {\n",
              "    border: 2px solid var(--fill-color);\n",
              "    border-color: transparent;\n",
              "    border-bottom-color: var(--fill-color);\n",
              "    animation:\n",
              "      spin 1s steps(1) infinite;\n",
              "  }\n",
              "\n",
              "  @keyframes spin {\n",
              "    0% {\n",
              "      border-color: transparent;\n",
              "      border-bottom-color: var(--fill-color);\n",
              "      border-left-color: var(--fill-color);\n",
              "    }\n",
              "    20% {\n",
              "      border-color: transparent;\n",
              "      border-left-color: var(--fill-color);\n",
              "      border-top-color: var(--fill-color);\n",
              "    }\n",
              "    30% {\n",
              "      border-color: transparent;\n",
              "      border-left-color: var(--fill-color);\n",
              "      border-top-color: var(--fill-color);\n",
              "      border-right-color: var(--fill-color);\n",
              "    }\n",
              "    40% {\n",
              "      border-color: transparent;\n",
              "      border-right-color: var(--fill-color);\n",
              "      border-top-color: var(--fill-color);\n",
              "    }\n",
              "    60% {\n",
              "      border-color: transparent;\n",
              "      border-right-color: var(--fill-color);\n",
              "    }\n",
              "    80% {\n",
              "      border-color: transparent;\n",
              "      border-right-color: var(--fill-color);\n",
              "      border-bottom-color: var(--fill-color);\n",
              "    }\n",
              "    90% {\n",
              "      border-color: transparent;\n",
              "      border-bottom-color: var(--fill-color);\n",
              "    }\n",
              "  }\n",
              "</style>\n",
              "\n",
              "  <script>\n",
              "    async function quickchart(key) {\n",
              "      const quickchartButtonEl =\n",
              "        document.querySelector('#' + key + ' button');\n",
              "      quickchartButtonEl.disabled = true;  // To prevent multiple clicks.\n",
              "      quickchartButtonEl.classList.add('colab-df-spinner');\n",
              "      try {\n",
              "        const charts = await google.colab.kernel.invokeFunction(\n",
              "            'suggestCharts', [key], {});\n",
              "      } catch (error) {\n",
              "        console.error('Error during call to suggestCharts:', error);\n",
              "      }\n",
              "      quickchartButtonEl.classList.remove('colab-df-spinner');\n",
              "      quickchartButtonEl.classList.add('colab-df-quickchart-complete');\n",
              "    }\n",
              "    (() => {\n",
              "      let quickchartButtonEl =\n",
              "        document.querySelector('#df-a8aa5de1-280e-4a05-8964-a93e49510a3c button');\n",
              "      quickchartButtonEl.style.display =\n",
              "        google.colab.kernel.accessAllowed ? 'block' : 'none';\n",
              "    })();\n",
              "  </script>\n",
              "</div>\n",
              "\n",
              "    </div>\n",
              "  </div>\n"
            ],
            "application/vnd.google.colaboratory.intrinsic+json": {
              "type": "dataframe",
              "variable_name": "feature_df"
            }
          },
          "metadata": {},
          "execution_count": 50
        }
      ]
    },
    {
      "cell_type": "code",
      "source": [
        "feature_df.shape"
      ],
      "metadata": {
        "colab": {
          "base_uri": "https://localhost:8080/"
        },
        "id": "DBeUziZBB940",
        "outputId": "c61ecd75-8dbe-48b7-8ce0-5c0bb0baed0b"
      },
      "execution_count": 51,
      "outputs": [
        {
          "output_type": "execute_result",
          "data": {
            "text/plain": [
              "(6, 21)"
            ]
          },
          "metadata": {},
          "execution_count": 51
        }
      ]
    },
    {
      "cell_type": "markdown",
      "source": [
        "## Unsupervised Anomaly Detection"
      ],
      "metadata": {
        "id": "w1C3EfjNV2Fc"
      }
    },
    {
      "cell_type": "code",
      "source": [
        "# using IsolationForest Model\n",
        "X = feature_df.drop(columns=['filename'])\n",
        "X_scaled = StandardScaler().fit_transform(X)\n",
        "model_anomaly = IsolationForest(contamination=0.2, random_state=42)\n",
        "feature_df['anomaly_score'] = model_anomaly.fit_predict(X_scaled)"
      ],
      "metadata": {
        "id": "V_OUa0VFA-mt"
      },
      "execution_count": 52,
      "outputs": []
    },
    {
      "cell_type": "markdown",
      "source": [
        "## PCA Visualization"
      ],
      "metadata": {
        "id": "KtGrKozPV-SO"
      }
    },
    {
      "cell_type": "code",
      "source": [
        "pca = PCA(n_components=2)\n",
        "X_pca = pca.fit_transform(X_scaled)\n",
        "\n",
        "plt.figure(figsize=(8,6))\n",
        "sns.scatterplot(x=X_pca[:,0], y=X_pca[:,1], hue=feature_df['anomaly_score'])\n",
        "plt.title(\"PCA of Audio Features with Anomaly Detection\")\n",
        "plt.xlabel(\"PC1\")\n",
        "plt.ylabel(\"PC2\")\n",
        "plt.legend(title='Anomaly')\n",
        "plt.show()"
      ],
      "metadata": {
        "colab": {
          "base_uri": "https://localhost:8080/",
          "height": 564
        },
        "id": "8O9cZDDqBBfy",
        "outputId": "54ce9526-3b3f-462f-b891-7016205030d4"
      },
      "execution_count": 53,
      "outputs": [
        {
          "output_type": "display_data",
          "data": {
            "text/plain": [
              "<Figure size 800x600 with 1 Axes>"
            ],
            "image/png": "[encoded data removed]"
          },
          "metadata": {}
        }
      ]
    },
    {
      "cell_type": "markdown",
      "source": [
        "## API Function"
      ],
      "metadata": {
        "id": "cof57avQWEOT"
      }
    },
    {
      "cell_type": "code",
      "source": [
        "def detect_cognitive_decline(audio_file_path):\n",
        "    feats = extract_audio_features(audio_file_path)\n",
        "    feats_df = pd.DataFrame([feats])\n",
        "    X_test = StandardScaler().fit(X).transform(feats_df)\n",
        "    return model_anomaly.predict(X_test)[0]  # -1 is anomaly"
      ],
      "metadata": {
        "id": "-IAA7jyMBfQh"
      },
      "execution_count": 54,
      "outputs": []
    },
    {
      "cell_type": "code",
      "source": [
        "# Example for sample file 1\n",
        "score = detect_cognitive_decline(\"/content/voice_data/common_voice_en_40865214.mp3\")\n",
        "print(\"Risk Score:\", score)"
      ],
      "metadata": {
        "colab": {
          "base_uri": "https://localhost:8080/"
        },
        "id": "brCgRhOIBnv3",
        "outputId": "0554251a-d89b-4d1f-b7b9-93f42c2f57a3"
      },
      "execution_count": 55,
      "outputs": [
        {
          "output_type": "stream",
          "name": "stderr",
          "text": [
            "/usr/local/lib/python3.11/dist-packages/whisper/transcribe.py:132: UserWarning: FP16 is not supported on CPU; using FP32 instead\n",
            "  warnings.warn(\"FP16 is not supported on CPU; using FP32 instead\")\n"
          ]
        },
        {
          "output_type": "stream",
          "name": "stdout",
          "text": [
            "Risk Score: 1\n"
          ]
        }
      ]
    },
    {
      "cell_type": "markdown",
      "source": [
        "## Saving Features"
      ],
      "metadata": {
        "id": "eI-edrsaWUMX"
      }
    },
    {
      "cell_type": "code",
      "source": [
        "feature_df.to_csv(\"voice_features.csv\", index=False)"
      ],
      "metadata": {
        "id": "ZwvzKkWTBtkL"
      },
      "execution_count": 56,
      "outputs": []
    },
    {
      "cell_type": "code",
      "source": [],
      "metadata": {
        "id": "OnuY3G9RCGBb"
      },
      "execution_count": 56,
      "outputs": []
    }
  ]
}
